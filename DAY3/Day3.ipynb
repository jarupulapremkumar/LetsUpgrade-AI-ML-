{
 "cells": [
  {
   "cell_type": "markdown",
   "metadata": {},
   "source": [
    " ## Question 1"
   ]
  },
  {
   "cell_type": "code",
   "execution_count": 1,
   "metadata": {},
   "outputs": [
    {
     "name": "stdout",
     "output_type": "stream",
     "text": [
      "result of sub =  (-1-1j)\n"
     ]
    }
   ],
   "source": [
    "# Write a program to subtract two complex numbers in Python.\n",
    " \n",
    "a = 2+3j\n",
    "b = 3+4j\n",
    "result = a-b\n",
    "print(\"result of sub = \",result)"
   ]
  },
  {
   "cell_type": "markdown",
   "metadata": {},
   "source": [
    " ## Question 2"
   ]
  },
  {
   "cell_type": "code",
   "execution_count": 2,
   "metadata": {},
   "outputs": [
    {
     "data": {
      "text/plain": [
       "2.0"
      ]
     },
     "execution_count": 2,
     "metadata": {},
     "output_type": "execute_result"
    }
   ],
   "source": [
    "# Write a program to find the fourth root of a number.\n",
    "\n",
    "result = 16 ** (1/4)\n",
    "result"
   ]
  },
  {
   "cell_type": "markdown",
   "metadata": {},
   "source": [
    " ## Question 3"
   ]
  },
  {
   "cell_type": "code",
   "execution_count": 3,
   "metadata": {},
   "outputs": [
    {
     "name": "stdout",
     "output_type": "stream",
     "text": [
      "Numbers before swap \n",
      " a =  3 \n",
      " b =  8\n",
      "Numbers after swap \n",
      " a =  8 \n",
      " b =  3\n"
     ]
    }
   ],
   "source": [
    "# Write a program to swap two numbers in Python with the help of a temporary variable.\n",
    "\n",
    "a = 3\n",
    "b = 8\n",
    "print(\"Numbers before swap \\n a = \",a,\"\\n b = \",b)\n",
    "temp = a \n",
    "a = b\n",
    "b = temp\n",
    "print(\"Numbers after swap \\n a = \",a,\"\\n b = \",b)"
   ]
  },
  {
   "cell_type": "markdown",
   "metadata": {},
   "source": [
    " ## Question 4"
   ]
  },
  {
   "cell_type": "code",
   "execution_count": 4,
   "metadata": {},
   "outputs": [
    {
     "name": "stdout",
     "output_type": "stream",
     "text": [
      "Numbers before swap \n",
      " a =  3 \n",
      " b =  8\n",
      "Numbers after swap \n",
      " a =  8 \n",
      " b =  3\n"
     ]
    }
   ],
   "source": [
    "# Write a program to swap two numbers in Python without using a temporary variable.\n",
    "\n",
    "a = 3\n",
    "b = 8\n",
    "print(\"Numbers before swap \\n a = \",a,\"\\n b = \",b)\n",
    "a = a + b\n",
    "b = a - b\n",
    "a = a - b\n",
    "print(\"Numbers after swap \\n a = \",a,\"\\n b = \",b)\n"
   ]
  },
  {
   "cell_type": "markdown",
   "metadata": {},
   "source": [
    " ## Question 5"
   ]
  },
  {
   "cell_type": "markdown",
   "metadata": {},
   "source": [
    "### How to convert Fahrenheit to Celsius\n",
    "0 degrees Fahrenheit is equal to -17.77778 degrees Celsius:\n",
    "\n",
    "0 °F = -17.77778 °C\n",
    "\n",
    "The temperature T in degrees Celsius (°C) is equal to the temperature T in degrees Fahrenheit (°F) minus 32, times 5/9:\n",
    "\n",
    "T(°C) = (T(°F) - 32) × 5/9\n",
    "\n",
    "or\n",
    "\n",
    "T(°C) = (T(°F) - 32) / (9/5)\n",
    "\n",
    "or\n",
    "\n",
    "T(°C) = (T(°F) - 32) / 1.8\n",
    "\n",
    "### How to convert Fahrenheit to Kelvin\n",
    "The temperature T in Kelvin (K) is equal to the temperature T in degrees Fahrenheit (°F) plus 459.67, times 5/9:\n",
    "\n",
    "T(K) = (T(°F) + 459.67)× 5/9\n",
    "\n",
    "### How to convert Celsius to Kelvin\n",
    "0 degrees Celsius is equal to 273.15 degrees Kelvin:\n",
    "\n",
    "0 °C = 273.15 K\n",
    "\n",
    "The temperature T in Kelvin (K) is equal to the temperature T in degrees Celsius (°C) plus 273.15:\n",
    "\n",
    "T(K) = T(°C) + 273.15"
   ]
  },
  {
   "cell_type": "code",
   "execution_count": 5,
   "metadata": {},
   "outputs": [
    {
     "name": "stdout",
     "output_type": "stream",
     "text": [
      "Fahrenheit of  68  to Celsius  =  20.0\n",
      "Fahrenheit of  68  to kelvin  =  293.15000000000003\n"
     ]
    }
   ],
   "source": [
    "# Write a program to convert fahrenheit to kelvin and celsius both\n",
    "\n",
    "# Convert 68 degrees Fahrenheit to degrees Celsius and kelvin\n",
    "\n",
    "fah = 68 \n",
    "cel = 0\n",
    "kel = 0\n",
    "\n",
    "cel = (fah - 32) * (5/9)\n",
    "kel = (fah + 459.67) * (5/9)\n",
    "\n",
    "print(\"Fahrenheit of \",fah,\" to Celsius  = \",cel)\n",
    "print(\"Fahrenheit of \",fah,\" to kelvin  = \",kel)"
   ]
  },
  {
   "cell_type": "markdown",
   "metadata": {},
   "source": [
    " ## Question 6"
   ]
  },
  {
   "cell_type": "code",
   "execution_count": 6,
   "metadata": {},
   "outputs": [
    {
     "name": "stdout",
     "output_type": "stream",
     "text": [
      "1. int =  3 \n",
      " class =  <class 'int'>\n",
      "\n",
      "2. String =  LU \n",
      " class =  <class 'str'>\n",
      "\n",
      "3. float =  3.0 \n",
      " class =  <class 'float'>\n",
      "\n",
      "4. complex =  (2+3j) \n",
      " class =  <class 'complex'>\n",
      "\n",
      "5.  list =  [2, 3] \n",
      " class =  <class 'list'>\n",
      "\n",
      "6. tuple =  (2, 3) \n",
      " class =  <class 'tuple'>\n",
      "\n",
      "7. dictonary =  {'x': 1, 'y': 2} \n",
      " class =  <class 'dict'>\n",
      "\n"
     ]
    }
   ],
   "source": [
    "# Write a program to demonstrate all the available data types in Python. Hint: Use type() function\n",
    "\n",
    "# int \n",
    "a = 3\n",
    "print(\"1. int = \",a,\"\\n class = \",type(a))\n",
    "print(\"\")\n",
    "\n",
    "# String\n",
    "b = \"LU\"\n",
    "print(\"2. String = \",b,\"\\n class = \",type(b))\n",
    "print(\"\")\n",
    "\n",
    "# float\n",
    "c = 3.0\n",
    "print(\"3. float = \",c,\"\\n class = \",type(c))\n",
    "print(\"\")\n",
    "\n",
    "# complex \n",
    "d = 2+3j\n",
    "print(\"4. complex = \",d,\"\\n class = \",type(d))\n",
    "print(\"\")\n",
    "\n",
    "# List\n",
    "e = [2,3]\n",
    "print(\"5.  list = \",e,\"\\n class = \",type(e))\n",
    "print(\"\")\n",
    "\n",
    "#Tuple\n",
    "f = (2,3)\n",
    "print(\"6. tuple = \",f,\"\\n class = \",type(f))\n",
    "print(\"\")\n",
    "\n",
    "#Dictonary\n",
    "g = {\"x\" : 1,\"y\" : 2}\n",
    "print(\"7. dictonary = \",g,\"\\n class = \",type(g))\n",
    "print(\"\")\n"
   ]
  },
  {
   "cell_type": "markdown",
   "metadata": {},
   "source": [
    " ## Question 7"
   ]
  },
  {
   "cell_type": "code",
   "execution_count": 7,
   "metadata": {},
   "outputs": [],
   "source": [
    "# Create a Markdown cell in jupyter and list the steps discussed in the session by \n",
    "# Dr. DarshanIngle sir to create Github profile and upload Githubs Assignment link.\"\"\"\n",
    "\n"
   ]
  },
  {
   "cell_type": "markdown",
   "metadata": {},
   "source": [
    "### Step 1: Set Up a GitHub Account\n",
    "\n",
    "1. Go to https://github.com/join.\n",
    "\n",
    "2. Type a user name, your email address, and a password.\n",
    "\n",
    "3. Choose Sign up for GitHub, and then follow the instructions.\n",
    "\n",
    "### Create a GitHub Repository\n",
    "\n",
    "1. On the GitHub home page, do one of the following:\n",
    "\n",
    "  * In Your repositories, choose New repository.\n",
    "  * On the navigation bar, choose Create new (+), and then choose New repository.\n",
    "  \n",
    "2. In the Create a new repository page, do the following:\n",
    "\n",
    "  * In the Repository name box, enter < name of repo u want >.\n",
    "  * In the additional box write some thing about that repo\n",
    "  * Select Public.\n",
    "  * Choose Create repository.\n",
    "  \n",
    "### Upload a something to Your GitHub Repository\n",
    "1. Drag the file or copy the file and paste in the drop box\n",
    "2. click commit changes option "
   ]
  },
  {
   "cell_type": "code",
   "execution_count": null,
   "metadata": {},
   "outputs": [],
   "source": []
  }
 ],
 "metadata": {
  "kernelspec": {
   "display_name": "Python 3",
   "language": "python",
   "name": "python3"
  },
  "language_info": {
   "codemirror_mode": {
    "name": "ipython",
    "version": 3
   },
   "file_extension": ".py",
   "mimetype": "text/x-python",
   "name": "python",
   "nbconvert_exporter": "python",
   "pygments_lexer": "ipython3",
   "version": "3.7.0"
  }
 },
 "nbformat": 4,
 "nbformat_minor": 2
}
