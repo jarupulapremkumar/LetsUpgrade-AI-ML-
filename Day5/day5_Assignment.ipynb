{
 "cells": [
  {
   "cell_type": "markdown",
   "metadata": {},
   "source": [
    "### Question 1 :\n",
    "Write a Python program to find the first 20 non-even prime natural numbers"
   ]
  },
  {
   "cell_type": "code",
   "execution_count": 1,
   "metadata": {},
   "outputs": [
    {
     "name": "stdout",
     "output_type": "stream",
     "text": [
      "3\n",
      "5\n",
      "7\n",
      "11\n",
      "13\n",
      "17\n",
      "19\n"
     ]
    }
   ],
   "source": [
    "for val in range(0,21): \n",
    "    if val > 1: \n",
    "        for n in range(2, val//2 + 2): \n",
    "            if (val % n) == 0: \n",
    "                break\n",
    "            else: \n",
    "                if n == val//2 + 1: \n",
    "                    print(val) \n",
    "\n",
    "    \n"
   ]
  },
  {
   "cell_type": "markdown",
   "metadata": {},
   "source": [
    "### Question 2 :\n",
    "Write a Python program to implement 15 functions of string.\n"
   ]
  },
  {
   "cell_type": "code",
   "execution_count": 2,
   "metadata": {},
   "outputs": [
    {
     "name": "stdout",
     "output_type": "stream",
     "text": [
      "upper case =  PYTHON PROGRAM\n",
      "lower case =  python program\n",
      "length =  14\n",
      "new string after replacing =  Java Program\n",
      "frequency of a =  12\n",
      "index of a =  12\n",
      "the string starts with Python =  True\n",
      "frequency of python =  1\n",
      "made of alphanumeric =  False\n",
      "characters in the string are digits False\n",
      "characters in the string are alphabets =  <built-in method isalpha of str object at 0x0000023B1538A570>\n",
      "characters in the string are numeric =  False\n",
      "cases swapped =  pYTHON pROGRAM\n",
      "('Hello ', 'World', ' 2019')\n",
      "the string ends with Python =  False\n"
     ]
    }
   ],
   "source": [
    "str = \"Python Program\"\n",
    "#1\n",
    "print(\"upper case = \",str.upper())\n",
    "\n",
    "#2\n",
    "print(\"lower case = \",str.lower())\n",
    "\n",
    "#3\n",
    "print(\"length = \",len(str))\n",
    "\n",
    "#4\n",
    "str_new = str.replace('Python','Java')\n",
    "print(\"new string after replacing = \",str_new)\n",
    "\n",
    "#5\n",
    "print(\"frequency of a = \",str.find('a')) \n",
    "\n",
    "#6\n",
    "print(\"index of a = \",str.index('a'))\n",
    "\n",
    "#7\n",
    "print(\"the string starts with Python = \",str.startswith('Python'))\n",
    "\n",
    "#8\n",
    "print(\"frequency of python = \",str.count(\"Python\"))\n",
    "\n",
    "#9\n",
    "print(\"made of alphanumeric = \",str.isalnum())\n",
    "\n",
    "#10\n",
    "print(\"characters in the string are digits\",str.isdigit())\n",
    "\n",
    "#11\n",
    "print(\"characters in the string are alphabets = \",str.isalpha)\n",
    "\n",
    "#12\n",
    "print(\"characters in the string are numeric = \",str.isnumeric())\n",
    "\n",
    "#13\n",
    "print(\"cases swapped = \",str.swapcase())\n",
    "\n",
    "#14\n",
    "s = 'Hello World 2019'\n",
    "parts_tuple = s.partition('World')\n",
    "print(parts_tuple)\n",
    "\n",
    "#15\n",
    "print(\"the string ends with Python = \",str.endswith('Python')) "
   ]
  },
  {
   "cell_type": "markdown",
   "metadata": {},
   "source": [
    "### Question 3:\n",
    "Write a Python program to check if the given string is a Palindrome or Anagram or None of them.\n",
    "Display the message accordingly to the user.\n"
   ]
  },
  {
   "cell_type": "code",
   "execution_count": 3,
   "metadata": {},
   "outputs": [
    {
     "name": "stdout",
     "output_type": "stream",
     "text": [
      "listen is palindrome and anagaram\n"
     ]
    }
   ],
   "source": [
    "def check(s1, s2): \n",
    "    if(sorted(s1)== sorted(s2)): \n",
    "        return True\n",
    "    else: \n",
    "        return False\n",
    "        \n",
    "def isPalindrome(s): \n",
    "    rev_s = s[::-1] \n",
    "    if s == rev_s:\n",
    "         return True\n",
    "    else: \n",
    "        return False\n",
    "    \n",
    "str1 = \"listen\"\n",
    "str2 = \"silent\"\n",
    "\n",
    "if(check(str1,str2)== True and isPalindrome(str1) == False ):\n",
    "    print(str1,\"is palindrome and anagaram\")\n",
    "elif(check(str1,str2)== True and isPalindrome(str1) == False):\n",
    "    print(str1,\"is not palindrome but anagaram\")\n",
    "elif(check(str1,str2)== False and isPalindrome(str1) == True):\n",
    "    print(str1,\"is palindrome but not anagaram\")\n",
    "else:\n",
    "     print(str1,\"is palindrome and not anagaram\")"
   ]
  },
  {
   "cell_type": "markdown",
   "metadata": {},
   "source": [
    "### Question 4:\n",
    "Write a Python's user defined function that removes all the additional characters from the string\n",
    "and converts it finally to lower case using built-in lower(). eg: If the string is \"Dr. Darshan Ingle\n",
    "@AI-ML Trainer\", then the output be \"drdarshaningleaimltrainer\"."
   ]
  },
  {
   "cell_type": "code",
   "execution_count": 4,
   "metadata": {},
   "outputs": [
    {
     "name": "stdout",
     "output_type": "stream",
     "text": [
      "Original String :  Dr. Darshan Ingle @AI-ML Trainer\n",
      "Resultant list is :  drdarshaningleaimltrainer\n"
     ]
    }
   ],
   "source": [
    "bad_chars = [';', ':', '!', \"*\",\"@\",\" \",\"$\",\"#\",\"%\",\"&\",\"*\",\"+\",\"-\",\".\"] \n",
    "\n",
    "test_string = \"Dr. Darshan Ingle @AI-ML Trainer\"\n",
    "\n",
    "print (\"Original String : \" , test_string) \n",
    "\n",
    "for i in bad_chars : \n",
    "    test_string = test_string.replace(i, '') \n",
    "\n",
    "# printing resultant string \n",
    "print (\"Resultant list is : \" , test_string.lower())\n",
    "\n",
    "\n"
   ]
  },
  {
   "cell_type": "code",
   "execution_count": null,
   "metadata": {},
   "outputs": [],
   "source": []
  }
 ],
 "metadata": {
  "kernelspec": {
   "display_name": "Python 3",
   "language": "python",
   "name": "python3"
  },
  "language_info": {
   "codemirror_mode": {
    "name": "ipython",
    "version": 3
   },
   "file_extension": ".py",
   "mimetype": "text/x-python",
   "name": "python",
   "nbconvert_exporter": "python",
   "pygments_lexer": "ipython3",
   "version": "3.7.6"
  }
 },
 "nbformat": 4,
 "nbformat_minor": 2
}
