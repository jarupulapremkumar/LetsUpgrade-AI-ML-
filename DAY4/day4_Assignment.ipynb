{
 "cells": [
  {
   "cell_type": "markdown",
   "metadata": {},
   "source": [
    "### Question 1:\n",
    "Research on whether addition, subtraction, multiplication, division, floor division and modulo\n",
    "operations be performed on complex numbers. Based on your study, implement a Python\n",
    "program to demonstrate these operations."
   ]
  },
  {
   "cell_type": "code",
   "execution_count": 9,
   "metadata": {},
   "outputs": [
    {
     "name": "stdout",
     "output_type": "stream",
     "text": [
      "Addition of two complex numbers  =   (6+8j)\n",
      "Subtraction of two complex numbers  =  (-2-2j)\n",
      "Multiplication of two complex numbers =  (-7+22j)\n",
      "Division of two complex numbers  =  (0.5609756097560976+0.0487804878048781j)\n"
     ]
    }
   ],
   "source": [
    "a = 2+3j\n",
    "b = 4+5j\n",
    "\n",
    "add = a + b\n",
    "print(\"Addition of two complex numbers  =  \",add)\n",
    "\n",
    "sub = a - b\n",
    "print(\"Subtraction of two complex numbers  = \",sub)\n",
    "\n",
    "mul = a * b\n",
    "print(\"Multiplication of two complex numbers = \",mul)\n",
    "\n",
    "div = a / b\n",
    "print(\"Division of two complex numbers  = \",div)\n",
    "\n"
   ]
  },
  {
   "cell_type": "code",
   "execution_count": 10,
   "metadata": {},
   "outputs": [
    {
     "ename": "TypeError",
     "evalue": "can't mod complex numbers.",
     "output_type": "error",
     "traceback": [
      "\u001b[1;31m---------------------------------------------------------------------------\u001b[0m",
      "\u001b[1;31mTypeError\u001b[0m                                 Traceback (most recent call last)",
      "\u001b[1;32m<ipython-input-10-aaf4ee2cb42c>\u001b[0m in \u001b[0;36m<module>\u001b[1;34m\u001b[0m\n\u001b[1;32m----> 1\u001b[1;33m \u001b[0mmod\u001b[0m \u001b[1;33m=\u001b[0m \u001b[0ma\u001b[0m \u001b[1;33m%\u001b[0m \u001b[0mb\u001b[0m\u001b[1;33m\u001b[0m\u001b[0m\n\u001b[0m\u001b[0;32m      2\u001b[0m \u001b[0mprint\u001b[0m\u001b[1;33m(\u001b[0m\u001b[1;34m\"Modulo of two complex numbers : \"\u001b[0m\u001b[1;33m,\u001b[0m\u001b[0mdiv\u001b[0m\u001b[1;33m)\u001b[0m\u001b[1;33m\u001b[0m\u001b[0m\n",
      "\u001b[1;31mTypeError\u001b[0m: can't mod complex numbers."
     ]
    }
   ],
   "source": [
    "mod = a % b\n",
    "print(\"Modulo of two complex numbers : \",div)"
   ]
  },
  {
   "cell_type": "raw",
   "metadata": {},
   "source": [
    "Clearly we see we can perform addition ,substraction, multiplication and divison \n",
    "but not modulo operation"
   ]
  },
  {
   "cell_type": "markdown",
   "metadata": {},
   "source": [
    "### Question 2:\n",
    "Research on range() functions and its parameters. Create a markdown cell and write in your own\n",
    "words (no copy-paste from google please) what you understand about it. Implement a small\n",
    "program of your choice on the same."
   ]
  },
  {
   "cell_type": "markdown",
   "metadata": {},
   "source": [
    "### Syntax\n",
    "<i>range(start, stop, step)</i>\n",
    "\n",
    "### Parameters\n",
    "\n",
    "<b>start:</b> The start index is an integer, and if not given, the default value is 0.This optional parameter.\n",
    "\n",
    "<b>stop: </b>The stop index decides the value at which the range function has to stop. It is a mandatory input to range function. The last value will be always 1 less than the stop value.\n",
    "\n",
    "<b>step:</b> The step value is the number by which the next number is range has to be incremented, by default, it is 1.Like start parameter this one is also optional.mostly start param is used with step param\n",
    "\n",
    "##### Return value:\n",
    "The return value is a sequence of numbers from the given start to stop index."
   ]
  },
  {
   "cell_type": "code",
   "execution_count": 25,
   "metadata": {},
   "outputs": [
    {
     "name": "stdout",
     "output_type": "stream",
     "text": [
      "Using all Parameters : \n",
      "1 6 11 16 21 26 \n",
      "\n",
      "Using start and stop params: \n",
      "3 4 5 6 7 8 9 \n",
      "\n",
      "Using only stop Parameters : \n",
      "0 1 2 3 4 5 6 7 8 9 \n",
      "\n"
     ]
    }
   ],
   "source": [
    "print(\"Using all Parameters : \")\n",
    "\n",
    "for i in range(1, 30, 5): \n",
    "    print(i,end =\" \")\n",
    "    \n",
    "print(\"\")\n",
    "print(\"\")\n",
    "    \n",
    "print(\"Using start and stop params: \")\n",
    "for i in range(3, 10):\n",
    "    print(i,end =\" \")\n",
    "\n",
    "print(\"\")\n",
    "print(\"\")\n",
    "\n",
    "print(\"Using only stop Parameters : \")\n",
    "for i in range(10):\n",
    "    print(i,end =\" \")\n",
    "    \n",
    "print(\"\")\n",
    "print(\"\")\n",
    "    \n"
   ]
  },
  {
   "cell_type": "markdown",
   "metadata": {},
   "source": [
    "### Question 3:\n",
    "Consider two numbers. Perform their subtraction and if the result of subtraction is greater than\n",
    "25, print their multiplication result else print their division result.\n"
   ]
  },
  {
   "cell_type": "code",
   "execution_count": 23,
   "metadata": {},
   "outputs": [
    {
     "name": "stdout",
     "output_type": "stream",
     "text": [
      " Done Division \n",
      "1.1153846153846154\n"
     ]
    }
   ],
   "source": [
    "a = 87\n",
    "b = 78\n",
    "if (a - b) > 25:\n",
    "    print(\" Done Multiplication \")\n",
    "    print(a * b)\n",
    "    \n",
    "else:\n",
    "    print(\" Done Division \")\n",
    "    print(a / b)"
   ]
  },
  {
   "cell_type": "code",
   "execution_count": 24,
   "metadata": {},
   "outputs": [
    {
     "name": "stdout",
     "output_type": "stream",
     "text": [
      " Done Multiplication \n",
      "2958\n"
     ]
    }
   ],
   "source": [
    "a = 87\n",
    "b = 34\n",
    "if (a - b) > 25:\n",
    "    print(\" Done Multiplication \")\n",
    "    print(a * b)\n",
    "    \n",
    "else:\n",
    "    print(\" Done Division \")\n",
    "    print(a / b)"
   ]
  },
  {
   "cell_type": "markdown",
   "metadata": {},
   "source": [
    "### Question 4:\n",
    "Consider a list of 10 elements of integer values. If the number in the list is divisible by 2, print the\n",
    "result as \"square of that number minus 2\"."
   ]
  },
  {
   "cell_type": "markdown",
   "metadata": {},
   "source": [
    "### Question 5:\n",
    "Consider a list of 10 elements. Print all the elements in the list which are greater than 7 when that\n",
    "number is divided 2"
   ]
  },
  {
   "cell_type": "code",
   "execution_count": 33,
   "metadata": {},
   "outputs": [
    {
     "name": "stdout",
     "output_type": "stream",
     "text": [
      "8\n",
      "10\n"
     ]
    }
   ],
   "source": [
    "list1 = [1,2,3,4,5,6,7,8,9,10]\n",
    "for i in list1 :\n",
    "    if (i % 2) == 0 :\n",
    "        if i >= 7 :\n",
    "            print(i)"
   ]
  }
 ],
 "metadata": {
  "kernelspec": {
   "display_name": "Python 3",
   "language": "python",
   "name": "python3"
  },
  "language_info": {
   "codemirror_mode": {
    "name": "ipython",
    "version": 3
   },
   "file_extension": ".py",
   "mimetype": "text/x-python",
   "name": "python",
   "nbconvert_exporter": "python",
   "pygments_lexer": "ipython3",
   "version": "3.7.0"
  }
 },
 "nbformat": 4,
 "nbformat_minor": 2
}
